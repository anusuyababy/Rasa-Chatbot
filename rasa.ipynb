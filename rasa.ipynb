{
  "nbformat": 4,
  "nbformat_minor": 0,
  "metadata": {
    "colab": {
      "name": "rasa",
      "provenance": []
    },
    "kernelspec": {
      "name": "python3",
      "display_name": "Python 3"
    },
    "language_info": {
      "name": "python"
    },
    "accelerator": "GPU"
  },
  "cells": [
    {
      "cell_type": "code",
      "metadata": {
        "colab": {
          "base_uri": "https://localhost:8080/"
        },
        "id": "cYACfI039pgH",
        "outputId": "94b03e95-fda4-452b-e0be-0e16579cca83"
      },
      "source": [
        "!pip install rasa==1.10.3"
      ],
      "execution_count": 45,
      "outputs": [
        {
          "output_type": "stream",
          "text": [
            "Requirement already satisfied: rasa==1.10.3 in /usr/local/lib/python3.7/dist-packages (1.10.3)\n",
            "Requirement already satisfied: pika<1.2.0,>=1.1.0 in /usr/local/lib/python3.7/dist-packages (from rasa==1.10.3) (1.1.0)\n",
            "Requirement already satisfied: ruamel.yaml<0.17,>=0.16 in /usr/local/lib/python3.7/dist-packages (from rasa==1.10.3) (0.16.13)\n",
            "Requirement already satisfied: packaging<21.0,>=20.0 in /usr/local/lib/python3.7/dist-packages (from rasa==1.10.3) (20.9)\n",
            "Requirement already satisfied: pytz<2020.0,>=2019.1 in /usr/local/lib/python3.7/dist-packages (from rasa==1.10.3) (2019.3)\n",
            "Requirement already satisfied: python-dateutil<2.9,>=2.8 in /usr/local/lib/python3.7/dist-packages (from rasa==1.10.3) (2.8.1)\n",
            "Requirement already satisfied: scikit-learn<0.23,>=0.22 in /usr/local/lib/python3.7/dist-packages (from rasa==1.10.3) (0.22.2.post1)\n",
            "Requirement already satisfied: pydot<1.5,>=1.4 in /usr/local/lib/python3.7/dist-packages (from rasa==1.10.3) (1.4.2)\n",
            "Requirement already satisfied: prompt-toolkit<3.0,>=2.0 in /usr/local/lib/python3.7/dist-packages (from rasa==1.10.3) (2.0.10)\n",
            "Requirement already satisfied: setuptools>=41.0.0 in /usr/local/lib/python3.7/dist-packages (from rasa==1.10.3) (57.0.0)\n",
            "Requirement already satisfied: sanic-jwt<1.5.0,>=1.3.2 in /usr/local/lib/python3.7/dist-packages (from rasa==1.10.3) (1.4.1)\n",
            "Requirement already satisfied: python-engineio<3.13,>=3.11 in /usr/local/lib/python3.7/dist-packages (from rasa==1.10.3) (3.12.1)\n",
            "Requirement already satisfied: sklearn-crfsuite<0.4,>=0.3 in /usr/local/lib/python3.7/dist-packages (from rasa==1.10.3) (0.3.6)\n",
            "Requirement already satisfied: absl-py<0.10,>=0.9 in /usr/local/lib/python3.7/dist-packages (from rasa==1.10.3) (0.9.0)\n",
            "Requirement already satisfied: requests<3.0,>=2.23 in /usr/local/lib/python3.7/dist-packages (from rasa==1.10.3) (2.23.0)\n",
            "Requirement already satisfied: mattermostwrapper<2.3,>=2.2 in /usr/local/lib/python3.7/dist-packages (from rasa==1.10.3) (2.2)\n",
            "Requirement already satisfied: python-socketio<4.6,>=4.4 in /usr/local/lib/python3.7/dist-packages (from rasa==1.10.3) (4.5.1)\n",
            "Requirement already satisfied: rasa-sdk<2.0.0,>=1.10.0 in /usr/local/lib/python3.7/dist-packages (from rasa==1.10.3) (1.10.3)\n",
            "Requirement already satisfied: redis<4.0,>=3.4 in /usr/local/lib/python3.7/dist-packages (from rasa==1.10.3) (3.5.3)\n",
            "Requirement already satisfied: sanic<20.0.0,>=19.12.2 in /usr/local/lib/python3.7/dist-packages (from rasa==1.10.3) (19.12.5)\n",
            "Requirement already satisfied: webexteamssdk<1.4.0,>=1.1.1 in /usr/local/lib/python3.7/dist-packages (from rasa==1.10.3) (1.3)\n",
            "Requirement already satisfied: apscheduler<3.7,>=3.6 in /usr/local/lib/python3.7/dist-packages (from rasa==1.10.3) (3.6.3)\n",
            "Requirement already satisfied: fbmessenger<6.1.0,>=6.0.0 in /usr/local/lib/python3.7/dist-packages (from rasa==1.10.3) (6.0.0)\n",
            "Requirement already satisfied: gevent<1.6,>=1.4 in /usr/local/lib/python3.7/dist-packages (from rasa==1.10.3) (1.5.0)\n",
            "Requirement already satisfied: rocketchat_API<1.4.0,>=0.6.31 in /usr/local/lib/python3.7/dist-packages (from rasa==1.10.3) (1.3.1)\n",
            "Requirement already satisfied: tensorflow<2.2,>=2.1 in /usr/local/lib/python3.7/dist-packages (from rasa==1.10.3) (2.1.4)\n",
            "Requirement already satisfied: coloredlogs<11.0,>=10.0 in /usr/local/lib/python3.7/dist-packages (from rasa==1.10.3) (10.0)\n",
            "Requirement already satisfied: sanic-cors<0.11.0,>=0.10.0b1 in /usr/local/lib/python3.7/dist-packages (from rasa==1.10.3) (0.10.0.post3)\n",
            "Requirement already satisfied: aiohttp<3.7,>=3.6 in /usr/local/lib/python3.7/dist-packages (from rasa==1.10.3) (3.6.3)\n",
            "Requirement already satisfied: python-telegram-bot<13.0,>=11.1 in /usr/local/lib/python3.7/dist-packages (from rasa==1.10.3) (12.8)\n",
            "Requirement already satisfied: SQLAlchemy<1.4.0,>=1.3.3 in /usr/local/lib/python3.7/dist-packages (from rasa==1.10.3) (1.3.24)\n",
            "Requirement already satisfied: colorhash<1.1.0,>=1.0.2 in /usr/local/lib/python3.7/dist-packages (from rasa==1.10.3) (1.0.3)\n",
            "Requirement already satisfied: pymongo[srv,tls]<3.9.0,>=3.8.0 in /usr/local/lib/python3.7/dist-packages (from rasa==1.10.3) (3.8.0)\n",
            "Requirement already satisfied: colorclass<2.3,>=2.2 in /usr/local/lib/python3.7/dist-packages (from rasa==1.10.3) (2.2.0)\n",
            "Requirement already satisfied: matplotlib<3.3,>=3.1 in /usr/local/lib/python3.7/dist-packages (from rasa==1.10.3) (3.2.2)\n",
            "Requirement already satisfied: tensorflow-estimator==2.1.0 in /usr/local/lib/python3.7/dist-packages (from rasa==1.10.3) (2.1.0)\n",
            "Requirement already satisfied: tensorflow-probability<0.10,>=0.7 in /usr/local/lib/python3.7/dist-packages (from rasa==1.10.3) (0.9.0)\n",
            "Requirement already satisfied: PyJWT<1.8,>=1.7 in /usr/local/lib/python3.7/dist-packages (from rasa==1.10.3) (1.7.1)\n",
            "Requirement already satisfied: cloudpickle<1.4,>=1.2 in /usr/local/lib/python3.7/dist-packages (from rasa==1.10.3) (1.3.0)\n",
            "Requirement already satisfied: terminaltables<3.2.0,>=3.1.0 in /usr/local/lib/python3.7/dist-packages (from rasa==1.10.3) (3.1.0)\n",
            "Requirement already satisfied: questionary<1.6.0,>=1.5.1 in /usr/local/lib/python3.7/dist-packages (from rasa==1.10.3) (1.5.2)\n",
            "Requirement already satisfied: tensorflow_hub<0.9,>=0.7 in /usr/local/lib/python3.7/dist-packages (from rasa==1.10.3) (0.8.0)\n",
            "Requirement already satisfied: twilio<6.27,>=6.26 in /usr/local/lib/python3.7/dist-packages (from rasa==1.10.3) (6.26.3)\n",
            "Requirement already satisfied: tqdm<4.46,>=4.31 in /usr/local/lib/python3.7/dist-packages (from rasa==1.10.3) (4.41.1)\n",
            "Requirement already satisfied: tensorflow-addons<0.8.0,>=0.7.1 in /usr/local/lib/python3.7/dist-packages (from rasa==1.10.3) (0.7.1)\n",
            "Requirement already satisfied: multidict<5.0,>=4.6 in /usr/local/lib/python3.7/dist-packages (from rasa==1.10.3) (4.7.6)\n",
            "Requirement already satisfied: kafka-python<2.0,>=1.4 in /usr/local/lib/python3.7/dist-packages (from rasa==1.10.3) (1.4.7)\n",
            "Requirement already satisfied: jsonschema<3.3,>=3.2 in /usr/local/lib/python3.7/dist-packages (from rasa==1.10.3) (3.2.0)\n",
            "Requirement already satisfied: numpy<2.0,>=1.16 in /usr/local/lib/python3.7/dist-packages (from rasa==1.10.3) (1.19.5)\n",
            "Requirement already satisfied: oauth2client==4.1.3 in /usr/local/lib/python3.7/dist-packages (from rasa==1.10.3) (4.1.3)\n",
            "Requirement already satisfied: slackclient<3.0.0,>=2.0.0 in /usr/local/lib/python3.7/dist-packages (from rasa==1.10.3) (2.9.3)\n",
            "Requirement already satisfied: pykwalify<1.8.0,>=1.7.0 in /usr/local/lib/python3.7/dist-packages (from rasa==1.10.3) (1.7.0)\n",
            "Requirement already satisfied: networkx<2.5.0,>=2.4.0 in /usr/local/lib/python3.7/dist-packages (from rasa==1.10.3) (2.4)\n",
            "Requirement already satisfied: jsonpickle<1.5,>=1.3 in /usr/local/lib/python3.7/dist-packages (from rasa==1.10.3) (1.4.2)\n",
            "Requirement already satisfied: ujson<3.0,>=1.35 in /usr/local/lib/python3.7/dist-packages (from rasa==1.10.3) (2.0.3)\n",
            "Requirement already satisfied: scipy<2.0.0,>=1.4.1 in /usr/local/lib/python3.7/dist-packages (from rasa==1.10.3) (1.4.1)\n",
            "Requirement already satisfied: attrs<19.4,>=19.3 in /usr/local/lib/python3.7/dist-packages (from rasa==1.10.3) (19.3.0)\n",
            "Requirement already satisfied: async_generator<1.11,>=1.10 in /usr/local/lib/python3.7/dist-packages (from rasa==1.10.3) (1.10)\n",
            "Requirement already satisfied: boto3<2.0,>=1.12 in /usr/local/lib/python3.7/dist-packages (from rasa==1.10.3) (1.17.111)\n",
            "Requirement already satisfied: psycopg2-binary<2.9.0,>=2.8.2 in /usr/local/lib/python3.7/dist-packages (from rasa==1.10.3) (2.8.6)\n",
            "Requirement already satisfied: ruamel.yaml.clib>=0.1.2; platform_python_implementation == \"CPython\" and python_version < \"3.10\" in /usr/local/lib/python3.7/dist-packages (from ruamel.yaml<0.17,>=0.16->rasa==1.10.3) (0.2.6)\n",
            "Requirement already satisfied: pyparsing>=2.0.2 in /usr/local/lib/python3.7/dist-packages (from packaging<21.0,>=20.0->rasa==1.10.3) (2.4.7)\n",
            "Requirement already satisfied: six>=1.5 in /usr/local/lib/python3.7/dist-packages (from python-dateutil<2.9,>=2.8->rasa==1.10.3) (1.15.0)\n",
            "Requirement already satisfied: joblib>=0.11 in /usr/local/lib/python3.7/dist-packages (from scikit-learn<0.23,>=0.22->rasa==1.10.3) (1.0.1)\n",
            "Requirement already satisfied: wcwidth in /usr/local/lib/python3.7/dist-packages (from prompt-toolkit<3.0,>=2.0->rasa==1.10.3) (0.2.5)\n",
            "Requirement already satisfied: tabulate in /usr/local/lib/python3.7/dist-packages (from sklearn-crfsuite<0.4,>=0.3->rasa==1.10.3) (0.8.9)\n",
            "Requirement already satisfied: python-crfsuite>=0.8.3 in /usr/local/lib/python3.7/dist-packages (from sklearn-crfsuite<0.4,>=0.3->rasa==1.10.3) (0.9.7)\n",
            "Requirement already satisfied: urllib3!=1.25.0,!=1.25.1,<1.26,>=1.21.1 in /usr/local/lib/python3.7/dist-packages (from requests<3.0,>=2.23->rasa==1.10.3) (1.24.3)\n",
            "Requirement already satisfied: certifi>=2017.4.17 in /usr/local/lib/python3.7/dist-packages (from requests<3.0,>=2.23->rasa==1.10.3) (2021.5.30)\n",
            "Requirement already satisfied: chardet<4,>=3.0.2 in /usr/local/lib/python3.7/dist-packages (from requests<3.0,>=2.23->rasa==1.10.3) (3.0.4)\n",
            "Requirement already satisfied: idna<3,>=2.5 in /usr/local/lib/python3.7/dist-packages (from requests<3.0,>=2.23->rasa==1.10.3) (2.10)\n",
            "Requirement already satisfied: uvloop<0.15.0,>=0.5.3; sys_platform != \"win32\" and implementation_name == \"cpython\" in /usr/local/lib/python3.7/dist-packages (from sanic<20.0.0,>=19.12.2->rasa==1.10.3) (0.14.0)\n",
            "Requirement already satisfied: websockets<9.0,>=7.0 in /usr/local/lib/python3.7/dist-packages (from sanic<20.0.0,>=19.12.2->rasa==1.10.3) (8.1)\n",
            "Requirement already satisfied: httptools>=0.0.10 in /usr/local/lib/python3.7/dist-packages (from sanic<20.0.0,>=19.12.2->rasa==1.10.3) (0.2.0)\n",
            "Requirement already satisfied: httpx==0.9.3 in /usr/local/lib/python3.7/dist-packages (from sanic<20.0.0,>=19.12.2->rasa==1.10.3) (0.9.3)\n",
            "Requirement already satisfied: aiofiles>=0.3.0 in /usr/local/lib/python3.7/dist-packages (from sanic<20.0.0,>=19.12.2->rasa==1.10.3) (0.7.0)\n",
            "Requirement already satisfied: future in /usr/local/lib/python3.7/dist-packages (from webexteamssdk<1.4.0,>=1.1.1->rasa==1.10.3) (0.16.0)\n",
            "Requirement already satisfied: requests-toolbelt in /usr/local/lib/python3.7/dist-packages (from webexteamssdk<1.4.0,>=1.1.1->rasa==1.10.3) (0.9.1)\n",
            "Requirement already satisfied: tzlocal>=1.2 in /usr/local/lib/python3.7/dist-packages (from apscheduler<3.7,>=3.6->rasa==1.10.3) (1.5.1)\n",
            "Requirement already satisfied: greenlet>=0.4.14; platform_python_implementation == \"CPython\" in /usr/local/lib/python3.7/dist-packages (from gevent<1.6,>=1.4->rasa==1.10.3) (1.1.0)\n",
            "Requirement already satisfied: keras-preprocessing==1.1.0 in /usr/local/lib/python3.7/dist-packages (from tensorflow<2.2,>=2.1->rasa==1.10.3) (1.1.0)\n",
            "Requirement already satisfied: opt-einsum>=2.3.2 in /usr/local/lib/python3.7/dist-packages (from tensorflow<2.2,>=2.1->rasa==1.10.3) (3.3.0)\n",
            "Requirement already satisfied: google-pasta>=0.1.6 in /usr/local/lib/python3.7/dist-packages (from tensorflow<2.2,>=2.1->rasa==1.10.3) (0.2.0)\n",
            "Requirement already satisfied: grpcio>=1.8.6 in /usr/local/lib/python3.7/dist-packages (from tensorflow<2.2,>=2.1->rasa==1.10.3) (1.34.1)\n",
            "Requirement already satisfied: astor>=0.6.0 in /usr/local/lib/python3.7/dist-packages (from tensorflow<2.2,>=2.1->rasa==1.10.3) (0.8.1)\n",
            "Requirement already satisfied: termcolor>=1.1.0 in /usr/local/lib/python3.7/dist-packages (from tensorflow<2.2,>=2.1->rasa==1.10.3) (1.1.0)\n",
            "Requirement already satisfied: keras-applications>=1.0.8 in /usr/local/lib/python3.7/dist-packages (from tensorflow<2.2,>=2.1->rasa==1.10.3) (1.0.8)\n",
            "Requirement already satisfied: wrapt>=1.11.1 in /usr/local/lib/python3.7/dist-packages (from tensorflow<2.2,>=2.1->rasa==1.10.3) (1.12.1)\n",
            "Requirement already satisfied: wheel>=0.26; python_version >= \"3\" in /usr/local/lib/python3.7/dist-packages (from tensorflow<2.2,>=2.1->rasa==1.10.3) (0.36.2)\n",
            "Requirement already satisfied: tensorboard<2.2.0,>=2.1.0 in /usr/local/lib/python3.7/dist-packages (from tensorflow<2.2,>=2.1->rasa==1.10.3) (2.1.1)\n",
            "Requirement already satisfied: h5py<=2.10.0 in /usr/local/lib/python3.7/dist-packages (from tensorflow<2.2,>=2.1->rasa==1.10.3) (2.10.0)\n",
            "Requirement already satisfied: protobuf>=3.8.0 in /usr/local/lib/python3.7/dist-packages (from tensorflow<2.2,>=2.1->rasa==1.10.3) (3.17.3)\n",
            "Requirement already satisfied: gast==0.2.2 in /usr/local/lib/python3.7/dist-packages (from tensorflow<2.2,>=2.1->rasa==1.10.3) (0.2.2)\n",
            "Requirement already satisfied: humanfriendly>=4.7 in /usr/local/lib/python3.7/dist-packages (from coloredlogs<11.0,>=10.0->rasa==1.10.3) (9.2)\n",
            "Requirement already satisfied: sanic-plugins-framework>=0.9.0 in /usr/local/lib/python3.7/dist-packages (from sanic-cors<0.11.0,>=0.10.0b1->rasa==1.10.3) (0.9.5)\n",
            "Requirement already satisfied: async-timeout<4.0,>=3.0 in /usr/local/lib/python3.7/dist-packages (from aiohttp<3.7,>=3.6->rasa==1.10.3) (3.0.1)\n",
            "Requirement already satisfied: yarl<1.6.0,>=1.0 in /usr/local/lib/python3.7/dist-packages (from aiohttp<3.7,>=3.6->rasa==1.10.3) (1.5.1)\n",
            "Requirement already satisfied: tornado>=5.1 in /usr/local/lib/python3.7/dist-packages (from python-telegram-bot<13.0,>=11.1->rasa==1.10.3) (5.1.1)\n",
            "Requirement already satisfied: cryptography in /usr/local/lib/python3.7/dist-packages (from python-telegram-bot<13.0,>=11.1->rasa==1.10.3) (3.4.7)\n",
            "Requirement already satisfied: decorator>=4.4.0 in /usr/local/lib/python3.7/dist-packages (from python-telegram-bot<13.0,>=11.1->rasa==1.10.3) (4.4.2)\n",
            "Requirement already satisfied: dnspython<2.0.0,>=1.13.0; extra == \"srv\" in /usr/local/lib/python3.7/dist-packages (from pymongo[srv,tls]<3.9.0,>=3.8.0->rasa==1.10.3) (1.16.0)\n",
            "Requirement already satisfied: cycler>=0.10 in /usr/local/lib/python3.7/dist-packages (from matplotlib<3.3,>=3.1->rasa==1.10.3) (0.10.0)\n",
            "Requirement already satisfied: kiwisolver>=1.0.1 in /usr/local/lib/python3.7/dist-packages (from matplotlib<3.3,>=3.1->rasa==1.10.3) (1.3.1)\n",
            "Requirement already satisfied: pysocks; python_version >= \"3.0\" in /usr/local/lib/python3.7/dist-packages (from twilio<6.27,>=6.26->rasa==1.10.3) (1.7.1)\n",
            "Requirement already satisfied: importlib-metadata; python_version < \"3.8\" in /usr/local/lib/python3.7/dist-packages (from jsonschema<3.3,>=3.2->rasa==1.10.3) (4.6.0)\n",
            "Requirement already satisfied: pyrsistent>=0.14.0 in /usr/local/lib/python3.7/dist-packages (from jsonschema<3.3,>=3.2->rasa==1.10.3) (0.18.0)\n",
            "Requirement already satisfied: httplib2>=0.9.1 in /usr/local/lib/python3.7/dist-packages (from oauth2client==4.1.3->rasa==1.10.3) (0.17.4)\n",
            "Requirement already satisfied: rsa>=3.1.4 in /usr/local/lib/python3.7/dist-packages (from oauth2client==4.1.3->rasa==1.10.3) (4.7.2)\n",
            "Requirement already satisfied: pyasn1-modules>=0.0.5 in /usr/local/lib/python3.7/dist-packages (from oauth2client==4.1.3->rasa==1.10.3) (0.2.8)\n",
            "Requirement already satisfied: pyasn1>=0.1.7 in /usr/local/lib/python3.7/dist-packages (from oauth2client==4.1.3->rasa==1.10.3) (0.4.8)\n",
            "Requirement already satisfied: docopt>=0.6.2 in /usr/local/lib/python3.7/dist-packages (from pykwalify<1.8.0,>=1.7.0->rasa==1.10.3) (0.6.2)\n",
            "Requirement already satisfied: PyYAML>=3.11 in /usr/local/lib/python3.7/dist-packages (from pykwalify<1.8.0,>=1.7.0->rasa==1.10.3) (3.13)\n",
            "Requirement already satisfied: s3transfer<0.5.0,>=0.4.0 in /usr/local/lib/python3.7/dist-packages (from boto3<2.0,>=1.12->rasa==1.10.3) (0.4.2)\n",
            "Requirement already satisfied: jmespath<1.0.0,>=0.7.1 in /usr/local/lib/python3.7/dist-packages (from boto3<2.0,>=1.12->rasa==1.10.3) (0.10.0)\n",
            "Requirement already satisfied: botocore<1.21.0,>=1.20.111 in /usr/local/lib/python3.7/dist-packages (from boto3<2.0,>=1.12->rasa==1.10.3) (1.20.111)\n",
            "Requirement already satisfied: rfc3986<2,>=1.3 in /usr/local/lib/python3.7/dist-packages (from httpx==0.9.3->sanic<20.0.0,>=19.12.2->rasa==1.10.3) (1.5.0)\n",
            "Requirement already satisfied: h11==0.8.* in /usr/local/lib/python3.7/dist-packages (from httpx==0.9.3->sanic<20.0.0,>=19.12.2->rasa==1.10.3) (0.8.1)\n",
            "Requirement already satisfied: hstspreload in /usr/local/lib/python3.7/dist-packages (from httpx==0.9.3->sanic<20.0.0,>=19.12.2->rasa==1.10.3) (2021.7.5)\n",
            "Requirement already satisfied: sniffio==1.* in /usr/local/lib/python3.7/dist-packages (from httpx==0.9.3->sanic<20.0.0,>=19.12.2->rasa==1.10.3) (1.2.0)\n",
            "Requirement already satisfied: h2==3.* in /usr/local/lib/python3.7/dist-packages (from httpx==0.9.3->sanic<20.0.0,>=19.12.2->rasa==1.10.3) (3.2.0)\n",
            "Requirement already satisfied: markdown>=2.6.8 in /usr/local/lib/python3.7/dist-packages (from tensorboard<2.2.0,>=2.1.0->tensorflow<2.2,>=2.1->rasa==1.10.3) (3.3.4)\n",
            "Requirement already satisfied: google-auth-oauthlib<0.5,>=0.4.1 in /usr/local/lib/python3.7/dist-packages (from tensorboard<2.2.0,>=2.1.0->tensorflow<2.2,>=2.1->rasa==1.10.3) (0.4.4)\n",
            "Requirement already satisfied: google-auth<2,>=1.6.3 in /usr/local/lib/python3.7/dist-packages (from tensorboard<2.2.0,>=2.1.0->tensorflow<2.2,>=2.1->rasa==1.10.3) (1.32.1)\n",
            "Requirement already satisfied: werkzeug>=0.11.15 in /usr/local/lib/python3.7/dist-packages (from tensorboard<2.2.0,>=2.1.0->tensorflow<2.2,>=2.1->rasa==1.10.3) (1.0.1)\n",
            "Requirement already satisfied: typing-extensions>=3.7.4; python_version < \"3.8\" in /usr/local/lib/python3.7/dist-packages (from yarl<1.6.0,>=1.0->aiohttp<3.7,>=3.6->rasa==1.10.3) (3.7.4.3)\n",
            "Requirement already satisfied: cffi>=1.12 in /usr/local/lib/python3.7/dist-packages (from cryptography->python-telegram-bot<13.0,>=11.1->rasa==1.10.3) (1.14.5)\n",
            "Requirement already satisfied: zipp>=0.5 in /usr/local/lib/python3.7/dist-packages (from importlib-metadata; python_version < \"3.8\"->jsonschema<3.3,>=3.2->rasa==1.10.3) (3.4.1)\n",
            "Requirement already satisfied: hpack<4,>=3.0 in /usr/local/lib/python3.7/dist-packages (from h2==3.*->httpx==0.9.3->sanic<20.0.0,>=19.12.2->rasa==1.10.3) (3.0.0)\n",
            "Requirement already satisfied: hyperframe<6,>=5.2.0 in /usr/local/lib/python3.7/dist-packages (from h2==3.*->httpx==0.9.3->sanic<20.0.0,>=19.12.2->rasa==1.10.3) (5.2.0)\n",
            "Requirement already satisfied: requests-oauthlib>=0.7.0 in /usr/local/lib/python3.7/dist-packages (from google-auth-oauthlib<0.5,>=0.4.1->tensorboard<2.2.0,>=2.1.0->tensorflow<2.2,>=2.1->rasa==1.10.3) (1.3.0)\n",
            "Requirement already satisfied: cachetools<5.0,>=2.0.0 in /usr/local/lib/python3.7/dist-packages (from google-auth<2,>=1.6.3->tensorboard<2.2.0,>=2.1.0->tensorflow<2.2,>=2.1->rasa==1.10.3) (4.2.2)\n",
            "Requirement already satisfied: pycparser in /usr/local/lib/python3.7/dist-packages (from cffi>=1.12->cryptography->python-telegram-bot<13.0,>=11.1->rasa==1.10.3) (2.20)\n",
            "Requirement already satisfied: oauthlib>=3.0.0 in /usr/local/lib/python3.7/dist-packages (from requests-oauthlib>=0.7.0->google-auth-oauthlib<0.5,>=0.4.1->tensorboard<2.2.0,>=2.1.0->tensorflow<2.2,>=2.1->rasa==1.10.3) (3.1.1)\n"
          ],
          "name": "stdout"
        }
      ]
    },
    {
      "cell_type": "code",
      "metadata": {
        "colab": {
          "base_uri": "https://localhost:8080/"
        },
        "id": "m8L2gPa091eU",
        "outputId": "35e55dc2-e874-4485-e5c8-c44a3434700f"
      },
      "source": [
        "!python -m spacy download en"
      ],
      "execution_count": 46,
      "outputs": [
        {
          "output_type": "stream",
          "text": [
            "Requirement already satisfied: en_core_web_sm==2.2.5 from https://github.com/explosion/spacy-models/releases/download/en_core_web_sm-2.2.5/en_core_web_sm-2.2.5.tar.gz#egg=en_core_web_sm==2.2.5 in /usr/local/lib/python3.7/dist-packages (2.2.5)\n",
            "Requirement already satisfied: spacy>=2.2.2 in /usr/local/lib/python3.7/dist-packages (from en_core_web_sm==2.2.5) (2.2.4)\n",
            "Requirement already satisfied: requests<3.0.0,>=2.13.0 in /usr/local/lib/python3.7/dist-packages (from spacy>=2.2.2->en_core_web_sm==2.2.5) (2.23.0)\n",
            "Requirement already satisfied: srsly<1.1.0,>=1.0.2 in /usr/local/lib/python3.7/dist-packages (from spacy>=2.2.2->en_core_web_sm==2.2.5) (1.0.5)\n",
            "Requirement already satisfied: tqdm<5.0.0,>=4.38.0 in /usr/local/lib/python3.7/dist-packages (from spacy>=2.2.2->en_core_web_sm==2.2.5) (4.41.1)\n",
            "Requirement already satisfied: blis<0.5.0,>=0.4.0 in /usr/local/lib/python3.7/dist-packages (from spacy>=2.2.2->en_core_web_sm==2.2.5) (0.4.1)\n",
            "Requirement already satisfied: catalogue<1.1.0,>=0.0.7 in /usr/local/lib/python3.7/dist-packages (from spacy>=2.2.2->en_core_web_sm==2.2.5) (1.0.0)\n",
            "Requirement already satisfied: murmurhash<1.1.0,>=0.28.0 in /usr/local/lib/python3.7/dist-packages (from spacy>=2.2.2->en_core_web_sm==2.2.5) (1.0.5)\n",
            "Requirement already satisfied: setuptools in /usr/local/lib/python3.7/dist-packages (from spacy>=2.2.2->en_core_web_sm==2.2.5) (57.0.0)\n",
            "Requirement already satisfied: numpy>=1.15.0 in /usr/local/lib/python3.7/dist-packages (from spacy>=2.2.2->en_core_web_sm==2.2.5) (1.19.5)\n",
            "Requirement already satisfied: plac<1.2.0,>=0.9.6 in /usr/local/lib/python3.7/dist-packages (from spacy>=2.2.2->en_core_web_sm==2.2.5) (1.1.3)\n",
            "Requirement already satisfied: thinc==7.4.0 in /usr/local/lib/python3.7/dist-packages (from spacy>=2.2.2->en_core_web_sm==2.2.5) (7.4.0)\n",
            "Requirement already satisfied: cymem<2.1.0,>=2.0.2 in /usr/local/lib/python3.7/dist-packages (from spacy>=2.2.2->en_core_web_sm==2.2.5) (2.0.5)\n",
            "Requirement already satisfied: preshed<3.1.0,>=3.0.2 in /usr/local/lib/python3.7/dist-packages (from spacy>=2.2.2->en_core_web_sm==2.2.5) (3.0.5)\n",
            "Requirement already satisfied: wasabi<1.1.0,>=0.4.0 in /usr/local/lib/python3.7/dist-packages (from spacy>=2.2.2->en_core_web_sm==2.2.5) (0.8.2)\n",
            "Requirement already satisfied: chardet<4,>=3.0.2 in /usr/local/lib/python3.7/dist-packages (from requests<3.0.0,>=2.13.0->spacy>=2.2.2->en_core_web_sm==2.2.5) (3.0.4)\n",
            "Requirement already satisfied: urllib3!=1.25.0,!=1.25.1,<1.26,>=1.21.1 in /usr/local/lib/python3.7/dist-packages (from requests<3.0.0,>=2.13.0->spacy>=2.2.2->en_core_web_sm==2.2.5) (1.24.3)\n",
            "Requirement already satisfied: certifi>=2017.4.17 in /usr/local/lib/python3.7/dist-packages (from requests<3.0.0,>=2.13.0->spacy>=2.2.2->en_core_web_sm==2.2.5) (2021.5.30)\n",
            "Requirement already satisfied: idna<3,>=2.5 in /usr/local/lib/python3.7/dist-packages (from requests<3.0.0,>=2.13.0->spacy>=2.2.2->en_core_web_sm==2.2.5) (2.10)\n",
            "Requirement already satisfied: importlib-metadata>=0.20; python_version < \"3.8\" in /usr/local/lib/python3.7/dist-packages (from catalogue<1.1.0,>=0.0.7->spacy>=2.2.2->en_core_web_sm==2.2.5) (4.6.0)\n",
            "Requirement already satisfied: typing-extensions>=3.6.4; python_version < \"3.8\" in /usr/local/lib/python3.7/dist-packages (from importlib-metadata>=0.20; python_version < \"3.8\"->catalogue<1.1.0,>=0.0.7->spacy>=2.2.2->en_core_web_sm==2.2.5) (3.7.4.3)\n",
            "Requirement already satisfied: zipp>=0.5 in /usr/local/lib/python3.7/dist-packages (from importlib-metadata>=0.20; python_version < \"3.8\"->catalogue<1.1.0,>=0.0.7->spacy>=2.2.2->en_core_web_sm==2.2.5) (3.4.1)\n",
            "\u001b[38;5;2m✔ Download and installation successful\u001b[0m\n",
            "You can now load the model via spacy.load('en_core_web_sm')\n",
            "\u001b[38;5;2m✔ Linking successful\u001b[0m\n",
            "/usr/local/lib/python3.7/dist-packages/en_core_web_sm -->\n",
            "/usr/local/lib/python3.7/dist-packages/spacy/data/en\n",
            "You can now load the model via spacy.load('en')\n"
          ],
          "name": "stdout"
        }
      ]
    },
    {
      "cell_type": "code",
      "metadata": {
        "colab": {
          "base_uri": "https://localhost:8080/"
        },
        "id": "v8oPi_u091j6",
        "outputId": "0dafd726-79db-458a-8cbc-e4dce43905ef"
      },
      "source": [
        "!pip install nest_asyncio==1.3.3"
      ],
      "execution_count": 47,
      "outputs": [
        {
          "output_type": "stream",
          "text": [
            "Requirement already satisfied: nest_asyncio==1.3.3 in /usr/local/lib/python3.7/dist-packages (1.3.3)\n"
          ],
          "name": "stdout"
        }
      ]
    },
    {
      "cell_type": "code",
      "metadata": {
        "colab": {
          "base_uri": "https://localhost:8080/"
        },
        "id": "0iVTycuL91mj",
        "outputId": "7bc5ed7a-d4df-4bb4-c4f7-eca9a8551a5f"
      },
      "source": [
        "import os\n",
        "import rasa\n",
        "import nest_asyncio\n",
        "\n",
        "nest_asyncio.apply()\n",
        "print(\"Event loop ready.\")"
      ],
      "execution_count": 48,
      "outputs": [
        {
          "output_type": "stream",
          "text": [
            "Event loop ready.\n"
          ],
          "name": "stdout"
        }
      ]
    },
    {
      "cell_type": "code",
      "metadata": {
        "id": "wkjj-zkj91qT"
      },
      "source": [
        "from rasa.cli.scaffold import create_initial_project"
      ],
      "execution_count": 49,
      "outputs": []
    },
    {
      "cell_type": "code",
      "metadata": {
        "id": "fXY5BxEm91sx"
      },
      "source": [
        "project = \"test-project\"\n",
        "create_initial_project(project)"
      ],
      "execution_count": 50,
      "outputs": []
    },
    {
      "cell_type": "code",
      "metadata": {
        "colab": {
          "base_uri": "https://localhost:8080/"
        },
        "id": "LiqjL1iR91wL",
        "outputId": "39799460-c177-4e87-c71d-7c3d23c7b75a"
      },
      "source": [
        "# move into project directory and show files\n",
        "os.chdir(project)\n",
        "print(os.listdir(\".\"))"
      ],
      "execution_count": 51,
      "outputs": [
        {
          "output_type": "stream",
          "text": [
            "['config.yml', '__pycache__', 'endpoints.yml', 'domain.yml', 'tests', 'actions.py', 'credentials.yml', 'data', '__init__.py']\n"
          ],
          "name": "stdout"
        }
      ]
    },
    {
      "cell_type": "code",
      "metadata": {
        "colab": {
          "base_uri": "https://localhost:8080/"
        },
        "id": "-ocKxB5l91zv",
        "outputId": "b98ff27f-109a-4960-8f22-e471a20c3ba8"
      },
      "source": [
        "config = \"config.yml\"\n",
        "training_files = \"data/\"\n",
        "domain = \"domain.yml\"\n",
        "output = \"models/\"\n",
        "print(config, training_files, domain, output)"
      ],
      "execution_count": 52,
      "outputs": [
        {
          "output_type": "stream",
          "text": [
            "config.yml data/ domain.yml models/\n"
          ],
          "name": "stdout"
        }
      ]
    },
    {
      "cell_type": "code",
      "metadata": {
        "id": "eGONOxgn912H",
        "colab": {
          "base_uri": "https://localhost:8080/"
        },
        "outputId": "62b66394-42bd-4e8a-fa27-d45157a3a2af"
      },
      "source": [
        "model_path = rasa.train(domain, config, [training_files], output)\n",
        "print(model_path)"
      ],
      "execution_count": 53,
      "outputs": [
        {
          "output_type": "stream",
          "text": [
            "Processed Story Blocks: 100%|██████████| 5/5 [00:00<00:00, 360.01it/s, # trackers=1]\n",
            "Processed Story Blocks: 100%|██████████| 5/5 [00:00<00:00, 277.71it/s, # trackers=5]\n",
            "Processed Story Blocks: 100%|██████████| 5/5 [00:00<00:00, 175.58it/s, # trackers=20]\n",
            "Processed Story Blocks: 100%|██████████| 5/5 [00:00<00:00, 135.63it/s, # trackers=24]\n",
            "Processed trackers:   0%|          | 0/5 [00:00<?, ?it/s, # actions=2]"
          ],
          "name": "stderr"
        },
        {
          "output_type": "stream",
          "text": [
            "\u001b[94mTraining Core model...\u001b[0m\n"
          ],
          "name": "stdout"
        },
        {
          "output_type": "stream",
          "text": [
            "Processed trackers: 100%|██████████| 5/5 [00:00<00:00, 96.48it/s, # actions=16]\n",
            "Processed actions: 16it [00:00, 597.90it/s, # examples=16]\n",
            "Processed trackers: 100%|██████████| 231/231 [00:06<00:00, 34.95it/s, # actions=126]\n",
            "Epochs:   0%|          | 0/100 [00:00<?, ?it/s]/usr/local/lib/python3.7/dist-packages/rasa/utils/tensorflow/model_data.py:386: VisibleDeprecationWarning: Creating an ndarray from ragged nested sequences (which is a list-or-tuple of lists-or-tuples-or ndarrays with different lengths or shapes) is deprecated. If you meant to do this, you must specify 'dtype=object' when creating the ndarray\n",
            "  final_data[k].append(np.concatenate(np.array(v)))\n",
            "Epochs: 100%|██████████| 100/100 [00:12<00:00,  7.77it/s, t_loss=0.082, loss=0.009, acc=1.000]\n"
          ],
          "name": "stderr"
        },
        {
          "output_type": "stream",
          "text": [
            "\u001b[94mCore model training completed.\u001b[0m\n",
            "\u001b[94mTraining NLU model...\u001b[0m\n"
          ],
          "name": "stdout"
        },
        {
          "output_type": "stream",
          "text": [
            "\u001b[93m/usr/local/lib/python3.7/dist-packages/rasa/utils/common.py:363: UserWarning: You specified 'DIET' to train entities, but no entities are present in the training data. Skip training of entities.\n",
            "Epochs:   0%|          | 0/100 [00:00<?, ?it/s]/usr/local/lib/python3.7/dist-packages/rasa/utils/tensorflow/model_data.py:386: VisibleDeprecationWarning: Creating an ndarray from ragged nested sequences (which is a list-or-tuple of lists-or-tuples-or ndarrays with different lengths or shapes) is deprecated. If you meant to do this, you must specify 'dtype=object' when creating the ndarray\n",
            "  final_data[k].append(np.concatenate(np.array(v)))\n",
            "Epochs: 100%|██████████| 100/100 [00:06<00:00, 15.71it/s, t_loss=1.528, i_loss=0.132, i_acc=1.000]\n"
          ],
          "name": "stderr"
        },
        {
          "output_type": "stream",
          "text": [
            "\u001b[94mNLU model training completed.\u001b[0m\n",
            "\u001b[92mYour Rasa model is trained and saved at '/content/test-project/test-project/test-project/test-project/models/20210714-064116.tar.gz'.\u001b[0m\n",
            "models/20210714-064116.tar.gz\n"
          ],
          "name": "stdout"
        }
      ]
    },
    {
      "cell_type": "code",
      "metadata": {
        "colab": {
          "base_uri": "https://localhost:8080/"
        },
        "id": "yDw48OUK915V",
        "outputId": "16e236c3-b03f-42d3-935b-68ffb375eb5a"
      },
      "source": [
        "from rasa.jupyter import chat\n",
        "endpoints = 'endpoints.yml'\n",
        "chat(model_path, endpoints)"
      ],
      "execution_count": 54,
      "outputs": [
        {
          "output_type": "stream",
          "text": [
            "Your bot is ready to talk! Type your messages here or send '/stop'.\n",
            "hi\n",
            "\u001b[92mHey! How are you?\u001b[0m\n",
            "/stop\n"
          ],
          "name": "stdout"
        }
      ]
    },
    {
      "cell_type": "code",
      "metadata": {
        "colab": {
          "base_uri": "https://localhost:8080/"
        },
        "id": "eIpH1ewN917-",
        "outputId": "c14b3073-9ac1-4f2f-ca3d-71b7743bbf4d"
      },
      "source": [
        "%%writefile data/nlu.md\n",
        "\n",
        "\n",
        "## intent:SmartPort\n",
        "- What is SmartPort?\n",
        "- What do you meant by SmartPort?\n",
        "- can you tell me what is SmartPort?\n",
        "- SmartPort stands for?\n",
        "\n",
        "## intent:SmartPort_use\n",
        "- What is the use of SmartPort?\n",
        "- what is the role of smartport?\n",
        "\n",
        "## intent:SmartPort_install\n",
        "- How do I install SmartPort in my computer?\n",
        "- How can I install SmartPort?\n",
        "- Procedure of SmartPort installation?\n",
        "- Please help about SmartPort installation.\n",
        "- Can You please help me about SmartPort installation?\n",
        "\n",
        "## intent:Smart_Dashboard\n",
        "- What is Smart Dashboard?\n",
        "- what is 24X7 dashboard?\n",
        "- What do you meant by Smart Dashboard?\n",
        "- can you tell me what is Smart Dashboard?\n",
        "- Smart Dashboard?\n",
        "\n",
        "## intent:Smart_Chatbot\n",
        "- What is Smart Chatbot?\n",
        "- What is Smartbot?\n",
        "- What do you meant by Smart Chatbot?\n",
        "- can you tell me what is Smart Chatbot?\n",
        "- Smart Chatbot?\n",
        "- Smarttbot\n",
        "\n",
        "## intent:PLM\n",
        "- What is PLM?\n",
        "- What do you meant by PLM?\n",
        "- can you tell me what is PLM?\n",
        "- PLM stands for?\n",
        "\n",
        "## intent:PLM_software\n",
        "- What is PLM software?\n",
        "- What do you meant by PLM software?\n",
        "- can you tell me what is PLM software?\n",
        "- PLM software stands for?\n",
        "\n",
        "## intent:PLM_cost\n",
        "- How much does a PLM software cost?\n",
        "- what is plm software cost in your company?\n",
        "- What is plm software cost?\n",
        "- PLM software cost?\n",
        "\n",
        "## intent:advantages_of_PLM\n",
        "- What are the advantages of PLM?\n",
        "- What are the benefits of PLM?\n",
        "- benefits of PLM?\n",
        "- advantages of PLM?\n",
        "\n",
        "## intent:Teamcenter\n",
        "- What is Teamcenter?\n",
        "- What do you meant by Teamcenter?\n",
        "- can you tell me what is Teamcenter?\n",
        "- Teamcenter?\n",
        "- Teamcenter\n",
        "\n",
        "## intent:Teamcenter_rapid_start\n",
        "- What is Teamcenter rapid start?\n",
        "- What do you meant by Teamcenter rapid start?\n",
        "- can you tell me what is Teamcenter rapid start?\n",
        "- Teamcenter rapid start?\n",
        "- Teamcenter rapid start\n",
        "\n",
        "## intent:Teamcenter_enterprise\n",
        "- What is Teamcenter enterprise?\n",
        "- What do you meant by Teamcenter enterprise?\n",
        "- can you tell me what is Teamcenter enterprise?\n",
        "- Teamcenter enterprise?\n",
        "- Teamcenter enterprise\n",
        "\n",
        "## intent:Teamcenter_X\n",
        "- What is Teamcenter X?\n",
        "- What do you meant by Teamcenter X?\n",
        "- can you tell me what is Teamcenter X?\n",
        "- Teamcenter X?\n",
        "- Teamcenter X\n",
        "\n",
        "## intent:Teamcenter_install\n",
        "- How do I install Teamcenter in my computer?\n",
        "- How can I install Teamcenter?\n",
        "- Procedure of Teamcenter installation?\n",
        "- Please help about Teamcenter installation.\n",
        "- Can You please help me about Teamcenter installation?\n",
        "\n",
        "## intent:Teamcenter_cost\n",
        "- How much does a Teamcenter software cost?\n",
        "- what is Teamcenter software cost in your company?\n",
        "- What is Teamcenter software cost?\n",
        "- Teamcenter software cost?\n",
        "\n",
        "## intent:Teamcenter_use\n",
        "- Who uses Teamcenter?\n",
        "- who can use Teamcenter?\n",
        "- which kind of industry use teamcenter?\n",
        "- what kind of industry use teamcenter?\n",
        "- which kind of people use teamcenter?\n",
        "- what kind of people use teamcenter?\n",
        "\n",
        "## intent:Teamcenter_clients\n",
        "- What are Teamcenter client?\n",
        "- tell me about Teamcenter client?\n",
        "- Teamcenter client?\n",
        "- Teamcenter client\n",
        "\n",
        "## intent:rich_client\n",
        "- What is rich client?\n",
        "- What do you meant by rich client?\n",
        "- can you tell me what is rich client?\n",
        "- rich client\n",
        "\n",
        "## intent:thin_client\n",
        "- What is thin client?\n",
        "- What do you meant by thin client?\n",
        "- can you tell me what is thin client?\n",
        "- thin client\n",
        "\n",
        "## intent:thin_client_and_rich_client\n",
        "- What is the difference between thin client and rich client?\n",
        "- tell the difference between thin client and rich client?\n",
        "- difference between thin client and rich client?\n",
        "- difference between thin client and rich client\n",
        "\n",
        "## intent:Teamcenter_help\n",
        "- Who do I contact for more help with Teamcenter?\n",
        "- Where do I contact get help with Teamcenter?\n",
        "- Where can I contact get help with Teamcenter?\n",
        "- Who do I contact for help with Teamcenter?\n",
        "- Who can I contact for help with Teamcenter?\n",
        "- I need help with Teamcenter?\n",
        "- I need help with Teamcenter\n",
        "\n",
        "## intent:SOA\n",
        "- What is SOA in Teamcenter?\n",
        "- What is SOA?\n",
        "- can you tell me what is SOA?\n",
        "- SOA\n",
        "\n",
        "## intent:FMS\n",
        "- What is File Management System?\n",
        "- What is FMS?\n",
        "- FMS?\n",
        "- FMS\n",
        "\n",
        "## intent:FSC\n",
        "- What is FSC?\n",
        "- FSC?\n",
        "- FSC\n",
        "\n",
        "## intent:FCC\n",
        "- What is FCC?\n",
        "- FCC?\n",
        "- FCC\n",
        "\n",
        "## intent:two_tier\n",
        "- What is 2-Tier in Teamcenter?\n",
        "- What is two-tier in Teamcenter?\n",
        "- two-tier?\n",
        "- two-tier\n",
        "- 2-Tier\n",
        "\n",
        "## intent:four_tier\n",
        "- What is 4-Tier in Teamcenter?\n",
        "- What is four-tier in Teamcenter?\n",
        "- four-tier?\n",
        "- four-tier\n",
        "- 4-Tier\n",
        "\n",
        "## intent:PTC_Windchill\n",
        "- What is PTC_Windchill in PLM?\n",
        "- What is PTC_Windchill?\n",
        "- PTC_Windchill?\n",
        "- PTC_Windchill\n",
        "\n",
        "## intent:Composite_ID\n",
        "- What is Composite Hostid in PLM?\n",
        "- What is Composite ID in PLM?\n",
        "- What is CID?\n",
        "- Composite Hostid?\n",
        "- Composite ID?\n",
        "- Composite ID\n",
        "\n",
        "## intent:PLM_Common_Licensing\n",
        "- What is Siemens PLM Software Common Licensing?\n",
        "- What is Common Licensing?\n",
        "- Common Licensing?\n",
        "- Common Licensing\n",
        "\n",
        "## intent:license_file_install\n",
        "- How do I install license file in my computer?\n",
        "- How can I install license file?\n",
        "- Procedure of license file installation?\n",
        "- Please help about license file installation.\n",
        "- Can You please help me about license file installation?\n",
        "\n",
        "## intent: product_password\n",
        "- What is a product password?\n",
        "- product password?\n",
        "- product password\n",
        "\n",
        "## intent:greet\n",
        "- hey\n",
        "- hello\n",
        "- hi\n",
        "- good morning\n",
        "- good evening\n",
        "- hey there\n",
        "\n",
        "## intent:PLM_services\n",
        "- what are the plm services you are providing?\n",
        "- tell me about the plm services\n",
        "- plm services\n",
        "\n",
        "## intent:IT_services\n",
        "- what are the IT services you are providing?\n",
        "- tell me about the IT services\n",
        "- IT services\n",
        "\n",
        "## intent:engineering_services\n",
        "- what are the engineering services you are providing?\n",
        "- tell me about the engineering services\n",
        "- engineering services\n",
        "\n",
        "## intent:goodbye\n",
        "- bye\n",
        "- goodbye\n",
        "- see you around\n",
        "- see you later\n",
        "\n",
        "## intent:ask_human\n",
        "- Can I talk to a human agent?\n",
        "- Let me talk to a human\n",
        "- Can I please talk to a human?\n",
        "- I'd like to speak to your manager\n",
        "- Can I speak to a manager?\n",
        "- Humans please\n",
        "- I don't like speaking to a robot. Please connect with a human agent\n",
        "- connect with human agent please"
      ],
      "execution_count": 55,
      "outputs": [
        {
          "output_type": "stream",
          "text": [
            "Overwriting data/nlu.md\n"
          ],
          "name": "stdout"
        }
      ]
    },
    {
      "cell_type": "code",
      "metadata": {
        "colab": {
          "base_uri": "https://localhost:8080/"
        },
        "id": "ve8BL8wn91_h",
        "outputId": "1e916044-e118-4e4f-d2f8-a1cd29407bc0"
      },
      "source": [
        "%%writefile domain.yml\n",
        "\n",
        "intents:\n",
        "  - greet\n",
        "  - PLM_services\n",
        "  - IT_services\n",
        "  - engineering_services\n",
        "  - goodbye\n",
        "  - ask_human\n",
        "  - SmartPort\n",
        "  - SmartPort_use\n",
        "  - SmartPort_install\n",
        "  - Smart_Dashboard\n",
        "  - Smart_Chatbot\n",
        "  - PLM\n",
        "  - PLM_software\n",
        "  - PLM_cost\n",
        "  - advantages_of_PLM\n",
        "  - Teamcenter\n",
        "  - Teamcenter_rapid_start\n",
        "  - Teamcenter_enterprise\n",
        "  - Teamcenter_X\n",
        "  - Teamcenter_install\n",
        "  - Teamcenter_cost\n",
        "  - Teamcenter_use\n",
        "  - Teamcenter_clients\n",
        "  - rich_client\n",
        "  - thin_client\n",
        "  - thin_client_and_rich_client\n",
        "  - Teamcenter_help\n",
        "  - SOA\n",
        "  - FMS\n",
        "  - FSC\n",
        "  - FCC\n",
        "  - two_tier\n",
        "  - four_tier\n",
        "  - PTC_Windchill\n",
        "  - Composite_ID\n",
        "  - PLM_Common_Licensing\n",
        "  - license_file_install\n",
        "  - product_password\n",
        "\n",
        "responses:\n",
        "\n",
        "  utter_SmartPort:\n",
        "    - text: \"SmartPort is our answer to your PLM support-related problems. It is an advanced one-click solution to your existing system that solves your PLM-related problems in the shortest time.\"\n",
        "\n",
        "  utter_SmartPort_use:\n",
        "    - text: \"SmartPort is a single click add-on solution that provides proactive support, 24x7 dashboard monitoring, user-specific training guidance, and training, providing immediate assistance (which means smart chatbot), resulting in zero downtime.\"\n",
        "  \n",
        "  utter_SmartPort_install:\n",
        "    - text: \"Please bare with us. Your chat is being directed to the next available agent.\"\n",
        "\n",
        "  utter_Smart_Dashboard:\n",
        "    - text: \"It is a 24X7 dashboard monitoring for zero downtime, shortest response time and timely issue analysis. Displays heath of your PLM system in real time.\"\n",
        "  \n",
        "  utter_Smart_Chatbot:\n",
        "    - text: \"It is a smart AI-powered chatbot that converses with users naturally, understanding problems and providing immediate assistance as well personal trainings.\"\n",
        "\n",
        "  utter_PLM:\n",
        "    - text: \"Product lifecycle management (PLM) refers to the management of data and processes used in the design, engineering, manufacturing, sales, and service of a product across its entire lifecycle and across the supply chain.\"\n",
        "\n",
        "  utter_PLM_software:\n",
        "    - text: \"PLM software is a solution that manages all of the information and processes at every step of a product or service lifecycle across globalized supply chains. This includes the data from items, parts, products, documents, requirements, engineering change orders, and quality workflows.\"\n",
        "  \n",
        "  utter_PLM_cost:\n",
        "    - text: \"Unfortunately, PLM Software cost is quote based and varies depending on which product vendor you choose. Cost depends on modules and packages you choose.\"\n",
        "\n",
        "  utter_advantages_of_PLM:\n",
        "    - text: \"Benefits are: improved cycle time, better use of resources, increased productivity, enhanced quality of product, better design integrity and analytics, better communication within supply chain, and Reduced cost of product.\"\n",
        "\n",
        "  utter_Teamcenter:\n",
        "    - text: \"Teamcenter is a cloud-based product lifecycle management platform. It allows users to edit product data and processes such as 3D designs, embedded software, documentation and bill of materials.\"\n",
        "\n",
        "  utter_Teamcenter_rapid_start:\n",
        "    - text: \"Teamcenter Rapid Start is a lighter version of Teamcenter for organizations that need to quickly enable PDM benefits.\"\n",
        "\n",
        "  utter_Teamcenter_enterprise:\n",
        "    - text: \"It is an old platform for Teamcenter. Siemens moved to the Unified platform around 2007.\"\n",
        "\n",
        "  utter_Teamcenter_X:\n",
        "    - text: \"Teamcenter X is a modern cloud-based SaaS PLM platform from Siemens.\"\n",
        "\n",
        "  utter_Teamcenter_install:\n",
        "    - text: \"To install a new version of Teamcenter, launch TEM from a Teamcenter software distribution image(a disc or downloadable image) and select Install from the Overview panel.\"\n",
        "\n",
        "  utter_Teamcenter_Types_of_install:\n",
        "    - text: \"There are two types of Teamcenter installations. Which one do you want?\"\n",
        "      buttons: \n",
        "      - title: \"2-tier\"\n",
        "        payload: \"two_tier\"\n",
        "      - title: \"4-tier\"\n",
        "        payload: \"four_tier\"\n",
        "\n",
        "  utter_Teamcenter_Types_of_client:\n",
        "    - text: \"There are two types of Teamcenter client interface. Which one do you want?\"\n",
        "      buttons: \n",
        "      - title: \"rich clent\"\n",
        "        payload: \"rich clent\"\n",
        "      - title: \"thin client\"\n",
        "        payload: \"thin client\"\n",
        "      \n",
        "  utter_Teamcenter_cost:\n",
        "    - text: \"Teamcenter’s price is quote-based and varies depending on which product modules you choose.\"\n",
        "\n",
        "  utter_Teamcenter_use:\n",
        "    - text: \"Teamcenter is used by almost all departments in business for various purposes. Engineering or R&D use it to create, change, release product design definitions like 2D, 3D, BOM, how-to instructions. etc.\"\n",
        "\n",
        "  utter_Teamcenter_clients:\n",
        "    - text: \"There are three clients interface in Teamcenter - rich client, thin client, and active workspace client\"\n",
        "  \n",
        "  utter_rich_client:\n",
        "    - text: \"The Rich Application Client (RAC) is Teamcenter's most widely used user interface. With the help of the RAC, the user can access all Teamcenter functionalities.\"\n",
        "\n",
        "  utter_thin_client:\n",
        "    - text: \"This is a Web-Based Application, can be accessed using a URL.\"\n",
        "    \n",
        "  utter_thin_client_and_rich_client:\n",
        "    - text: \"Thin Client in Teamcenter is a Web Based Application and we have to use Thin Client by using URL. While coming to Rich Client, it is a Java Based Application in which we can perform integrations.\"\n",
        "\n",
        "  utter_Teamcenter_help:\n",
        "    - text: \" There are many channels for help. The official site for Teamcenter is the Siemens GTAC site. You can always write to us or book a consultation call with us to get free help on any issues you are facing.\"\n",
        "\n",
        "  utter_SOA:\n",
        "    - text: \"Teamcenter Services use service-oriented architecture (SOA). SOA allows for contract-based, coarse-grained interfaces to expose Teamcenter functionality in a standard way.\"\n",
        "\n",
        "  utter_FMS:\n",
        "    - text: \"File Management System (FMS) is one of the Teamcenter components for managing files or vault in Teamcenter.\"\n",
        "\n",
        "  utter_FSC:\n",
        "    - text: \"FMS Server Cache (FSC) is service running on the server side which basically cache file in the server and serves multiple user requests.\"\n",
        "\n",
        "  utter_FCC:\n",
        "    - text: \"FMS client cache (FCC) works on the client machine where it serves the request for a single user and also interacts with FSC for getting latest or new files from the server.\"\n",
        "\n",
        "  utter_two_tier:\n",
        "    - text: \"The two tiers are client tier and resource tier.\"\n",
        "\n",
        "  utter_four_tier:\n",
        "    - text: \"The four tiers are client tier, web tier, enterprise tier, and resource tier.\"\n",
        "  \n",
        "  utter_PTC_Windchill:\n",
        "    - text: \"It is product lifecycle management software that encourages a consolidated view of product information through multi-level data.\"\n",
        "\n",
        "  utter_Composite_ID:\n",
        "    - text: \"This is a 12 digit hexadecimal unique machine identifier that is used as part of Siemens PLM Software licensing to lock a license file to a machine.\"\n",
        "\n",
        "  utter_PLM_Common_Licensing:\n",
        "    - text: \"This is the common licensing toolkit and license daemon that will provide consistent licensing functionality and a common Siemens PLM Software license file across Siemens PLM Software products.\"\n",
        "  \n",
        "  utter_license_file_install:\n",
        "    - text: \"Please refer to the specific product installation instructions for full details.\"\n",
        "\n",
        "  utter_product_password:\n",
        "    - text: \"A product password is a string of characters that a customer must use to generate a license file for the Siemens PLM Software products.\"\n",
        "\n",
        "  utter_greet:\n",
        "    - text: \"Hey! How may i help you? We are providing services for the following:\"\n",
        "      buttons: \n",
        "      - title: \"PLM\"\n",
        "        payload: \"/PLM_services\"\n",
        "      - title: \"IT\"\n",
        "        payload: \"/Digital_Transformation\"\n",
        "      - title: \"Engineering services\"\n",
        "      payload: \"/Engineering_services\"\n",
        "\n",
        "  utter_Digital_Transformation:\n",
        "  - text: \"Here are the following softwares we provided on IT services - IoT, AI & ML, Web app development, and Cloud services.\"\n",
        "\n",
        "  utter_PLM_services:\n",
        "  - text: \"Here are the following softwares we provided on PLM services\"\n",
        "    buttons: \n",
        "    - title: \"Teamcenter\"\n",
        "      payload: \"/Teamcenter\"\n",
        "    - title: \"PTC Windchill\"\n",
        "      payload: \"/PTC_Windchill\"\n",
        "\n",
        "  utter_Engineering_services:\n",
        "    - text: \"Here are the following softwares we provided on engineering services - Design, CAD services, CAE services, and  Control systems.\"\n",
        "    \n",
        "  utter_continue:\n",
        "    - text: \"Do you want to continue?\"\n",
        "      buttons: \n",
        "      - title: \"Yes\"\n",
        "        payload: \"utter_yes\"\n",
        "      - title: \"No\"\n",
        "        payload: \"utter_no\"\n",
        "\n",
        "  utter_affirm:\n",
        "    - text: \"Okay that sounds good! Ask your queries.\"\n",
        "\n",
        "  utter_goodbye: \n",
        "    - text: \"Bye\"\n",
        "\n",
        "  utter_ask_human:\n",
        "    - text: \"Thank you. Your chat is being directed to the next available agent.\"\n",
        "\n",
        "session_config:\n",
        "  session_expiration_time: 60\n",
        "  carry_over_slots_to_new_session: true"
      ],
      "execution_count": 67,
      "outputs": [
        {
          "output_type": "stream",
          "text": [
            "Overwriting domain.yml\n"
          ],
          "name": "stdout"
        }
      ]
    },
    {
      "cell_type": "code",
      "metadata": {
        "colab": {
          "base_uri": "https://localhost:8080/"
        },
        "id": "P5rXlEzd92Bx",
        "outputId": "ace19192-cdf4-4fad-e1ee-66dbd6a15189"
      },
      "source": [
        "%%writefile data/stories.md\n",
        "\n",
        "## services\n",
        "* greet\n",
        "  - utter_greet\n",
        "  - utter_continue\n",
        "  - utter_affirm\n",
        "* goodbye\n",
        "  - utter_goodbye\n",
        "\n",
        "## what is smartport\n",
        "* SmartPort\n",
        "  - utter_SmartPort\n",
        "\n",
        "## uses of smartport\n",
        "* SmartPort_use\n",
        "  - utter_SmartPort_use\n",
        "\n",
        "## smartport installation\n",
        "* SmartPort_install\n",
        "  - utter_SmartPort_install\n",
        "\n",
        "## what is smart dashboard\n",
        "* Smart_Dashboard\n",
        "  - utter_Smart_Dashboard\n",
        "\n",
        "## what is smart chatbot\n",
        "* Smart_Chatbot\n",
        "  - utter_Smart_Chatbot\n",
        "\n",
        "## list of plm services\n",
        "* PLM_services\n",
        "  - utter_PLM_services\n",
        "\n",
        "## list of IT services\n",
        "* IT_services\n",
        "  - utter_Digital_Transformation\n",
        "\n",
        "## list of Engineering services\n",
        "* engineering_services\n",
        "  - utter_Engineering_services\n",
        "\n",
        "## Bye\n",
        "* goodbye\n",
        "  - utter_goodbye\n",
        "\n",
        "## Teamcenter installtion\n",
        "* Teamcenter_install\n",
        "  - utter_Teamcenter_install\n",
        "  - utter_Teamcenter_Types_of_install\n",
        "  - utter_Teamcenter_Types_of_client\n",
        "\n",
        "## PLM\n",
        "* PLM\n",
        "  - utter_PLM\n",
        "* PLM_software\n",
        "  - utter_PLM_software\n",
        "  \n",
        "## cost of PLM\n",
        "* PLM_cost\n",
        "  - utter_PLM_cost\n",
        "  \n",
        "## advantages of PLM\n",
        "* advantages_of_PLM\n",
        "  - utter_advantages_of_PLM\n",
        "  \n",
        "## Teamcenter\n",
        "* Teamcenter\n",
        "  - utter_Teamcenter\n",
        "* Teamcenter_rapid_start\n",
        "  - utter_Teamcenter_rapid_start\n",
        "* Teamcenter_enterprise\n",
        "  - utter_Teamcenter_enterprise\n",
        "* Teamcenter_X\n",
        "  - utter_Teamcenter_X\n",
        "\n",
        "## cost of Teamcenter\n",
        "* Teamcenter_cost\n",
        "  - utter_Teamcenter_cost\n",
        "\n",
        "## Teamcenter uses\n",
        "* Teamcenter_use\n",
        "  - utter_Teamcenter_use\n",
        "\n",
        "## clients of teamcenter\n",
        "* Teamcenter_clients\n",
        "  - utter_Teamcenter_clients\n",
        "  \n",
        "## rich client\n",
        "* rich_client\n",
        "  - utter_rich_client\n",
        "  \n",
        "## thin client\n",
        "* thin_client\n",
        "  - utter_thin_client\n",
        "  \n",
        "## difference between rich client and thin cleint\n",
        "* thin_client_and_rich_client\n",
        "  - utter_thin_client_and_rich_client\n",
        "\n",
        "## Teamcenter help\n",
        "* Teamcenter_help\n",
        "  - utter_Teamcenter_help\n",
        "\n",
        "## SOA definition\n",
        "* SOA\n",
        "  - utter_SOA\n",
        "\n",
        "## FMS definition\n",
        "* FMS\n",
        "  - utter_FMS\n",
        "\n",
        "## FSC definition\n",
        "* FSC\n",
        "  - utter_FSC\n",
        "\n",
        "## FCC definition\n",
        "* FCC\n",
        "  - utter_FCC\n",
        "\n",
        "## what is two tier\n",
        "* two_tier\n",
        "  - utter_two_tier\n",
        "\n",
        "## what is four tier\n",
        "* four_tier\n",
        "  - utter_four_tier\n",
        "\n",
        "## what is ptc Windchill\n",
        "* PTC_Windchill\n",
        "  - utter_PTC_Windchill\n",
        "\n",
        "## what is composite id\n",
        "* Composite_ID\n",
        "  - utter_Composite_ID\n",
        "\n",
        "## what is plm licensing\n",
        "* PLM_Common_Licensing\n",
        "  - utter_PLM_Common_Licensing\n",
        "\n",
        "## license file install\n",
        "* license_file_install\n",
        "  - utter_license_file_install\n",
        "\n",
        "## human assistant\n",
        "* ask_human\n",
        "  - utter_ask_human\n",
        "\n",
        "## what is product password\n",
        "* product_password\n",
        "  - utter_product_password"
      ],
      "execution_count": 68,
      "outputs": [
        {
          "output_type": "stream",
          "text": [
            "Overwriting data/stories.md\n"
          ],
          "name": "stdout"
        }
      ]
    },
    {
      "cell_type": "code",
      "metadata": {
        "colab": {
          "base_uri": "https://localhost:8080/"
        },
        "id": "_0S__XQp92D4",
        "outputId": "9307d4cf-7018-4ca2-ea31-694c18763658"
      },
      "source": [
        "model_path =  rasa.train(domain, config, [training_files], output)\n",
        "print(model_path)"
      ],
      "execution_count": 69,
      "outputs": [
        {
          "output_type": "stream",
          "text": [
            "\u001b[94mTraining Core model...\u001b[0m\n"
          ],
          "name": "stdout"
        },
        {
          "output_type": "stream",
          "text": [
            "Processed Story Blocks: 100%|██████████| 34/34 [00:00<00:00, 502.38it/s, # trackers=1]\n",
            "Processed Story Blocks: 100%|██████████| 34/34 [00:00<00:00, 139.53it/s, # trackers=34]\n",
            "Processed Story Blocks: 100%|██████████| 34/34 [00:00<00:00, 118.39it/s, # trackers=49]\n",
            "Processed Story Blocks: 100%|██████████| 34/34 [00:00<00:00, 101.47it/s, # trackers=50]\n",
            "Processed trackers: 100%|██████████| 34/34 [00:00<00:00, 211.52it/s, # actions=83]\n",
            "Processed actions: 83it [00:00, 739.40it/s, # examples=83]\n",
            "Processed trackers: 100%|██████████| 534/534 [00:08<00:00, 61.39it/s, # actions=1319]\n",
            "Epochs:   0%|          | 0/100 [00:00<?, ?it/s]/usr/local/lib/python3.7/dist-packages/rasa/utils/tensorflow/model_data.py:386: VisibleDeprecationWarning: Creating an ndarray from ragged nested sequences (which is a list-or-tuple of lists-or-tuples-or ndarrays with different lengths or shapes) is deprecated. If you meant to do this, you must specify 'dtype=object' when creating the ndarray\n",
            "  final_data[k].append(np.concatenate(np.array(v)))\n",
            "Epochs: 100%|██████████| 100/100 [03:00<00:00,  1.80s/it, t_loss=0.150, loss=0.013, acc=1.000]\n"
          ],
          "name": "stderr"
        },
        {
          "output_type": "stream",
          "text": [
            "\u001b[94mCore model training completed.\u001b[0m\n",
            "\u001b[94mNLU data/configuration did not change. No need to retrain NLU model.\u001b[0m\n",
            "\u001b[92mYour Rasa model is trained and saved at '/content/test-project/test-project/test-project/test-project/models/20210714-071357.tar.gz'.\u001b[0m\n",
            "models/20210714-071357.tar.gz\n"
          ],
          "name": "stdout"
        }
      ]
    },
    {
      "cell_type": "code",
      "metadata": {
        "colab": {
          "base_uri": "https://localhost:8080/"
        },
        "id": "PyLC_aDd92GB",
        "outputId": "e3f401dc-4931-4ba7-b20d-831ff11db186"
      },
      "source": [
        "endpoints = \"endpoints.yml\"\n",
        "chat(model_path, endpoints)"
      ],
      "execution_count": 70,
      "outputs": [
        {
          "output_type": "stream",
          "text": [
            "Your bot is ready to talk! Type your messages here or send '/stop'.\n",
            "hi\n",
            "\u001b[92mHey! How may i help you? We are providing services for the following:\u001b[0m\n",
            "\u001b[92mDo you want to continue?\u001b[0m\n",
            "\u001b[92mOkay that sounds good! Ask your queries.\u001b[0m\n",
            "teamcenter\n",
            "\u001b[92mTeamcenter is a cloud-based product lifecycle management platform. It allows users to edit product data and processes such as 3D designs, embedded software, documentation and bill of materials.\u001b[0m\n",
            "what is the cost of teamcenter?\n",
            "\u001b[92mTeamcenter’s price is quote-based and varies depending on which product modules you choose.\u001b[0m\n",
            "/stop\n"
          ],
          "name": "stdout"
        }
      ]
    },
    {
      "cell_type": "code",
      "metadata": {
        "id": "NUPaV9hQ92H4",
        "colab": {
          "base_uri": "https://localhost:8080/"
        },
        "outputId": "c9228ed0-6a00-498e-c31b-39ff0d8960d3"
      },
      "source": [
        "import rasa.data as data\n",
        "stories_directory, nlu_data_directory = data.get_core_nlu_directories(training_files)\n",
        "print(stories_directory, nlu_data_directory)"
      ],
      "execution_count": 71,
      "outputs": [
        {
          "output_type": "stream",
          "text": [
            "/tmp/tmpsfd_ls7f /tmp/tmpyx_mw3n7\n"
          ],
          "name": "stdout"
        }
      ]
    },
    {
      "cell_type": "code",
      "metadata": {
        "id": "gCa3nfGS92MU",
        "colab": {
          "base_uri": "https://localhost:8080/",
          "height": 1000
        },
        "outputId": "acfc2bec-b5bb-43e8-f7c9-d72cba6c2b4a"
      },
      "source": [
        "rasa.test(model_path, stories_directory, nlu_data_directory)\n",
        "print(\"Done testing...\")"
      ],
      "execution_count": 72,
      "outputs": [
        {
          "output_type": "stream",
          "text": [
            "Processed Story Blocks: 100%|██████████| 34/34 [00:00<00:00, 510.27it/s, # trackers=1]\n",
            "100%|██████████| 34/34 [00:00<00:00, 83.29it/s]\n",
            "100%|██████████| 169/169 [00:01<00:00, 104.60it/s]\n",
            "/usr/local/lib/python3.7/dist-packages/sklearn/metrics/_classification.py:1272: UndefinedMetricWarning: Precision and F-score are ill-defined and being set to 0.0 in labels with no predicted samples. Use `zero_division` parameter to control this behavior.\n",
            "  _warn_prf(average, modifier, msg_start, len(result))\n",
            "/usr/local/lib/python3.7/dist-packages/sklearn/metrics/_classification.py:1272: UndefinedMetricWarning: Precision is ill-defined and being set to 0.0 in labels with no predicted samples. Use `zero_division` parameter to control this behavior.\n",
            "  _warn_prf(average, modifier, msg_start, len(result))\n"
          ],
          "name": "stderr"
        },
        {
          "output_type": "stream",
          "text": [
            "Done testing...\n"
          ],
          "name": "stdout"
        },
        {
          "output_type": "display_data",
          "data": {
            "image/png": "[encoded data removed]",
            "text/plain": [
              "<Figure size 1440x1440 with 2 Axes>"
            ]
          },
          "metadata": {
            "tags": [],
            "needs_background": "light"
          }
        }
      ]
    }
  ]
}